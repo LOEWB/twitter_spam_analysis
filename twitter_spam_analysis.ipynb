{
 "cells": [
  {
   "cell_type": "code",
   "execution_count": 1672,
   "id": "virtual-astrology",
   "metadata": {
    "scrolled": true
   },
   "outputs": [],
   "source": [
    "import pandas as pd\n",
    "import numpy as np\n",
    "import matplotlib.pyplot as plt\n",
    "import statistics as stcs\n",
    "from pandas import DataFrame\n",
    "from sklearn import svm\n",
    "from sklearn.model_selection import train_test_split\n",
    "from sklearn.metrics import classification_report\n",
    "from sklearn.svm import LinearSVC\n",
    "from sklearn.preprocessing import StandardScaler\n",
    "from sklearn.feature_selection import SelectKBest, f_regression"
   ]
  },
  {
   "cell_type": "code",
   "execution_count": 1673,
   "id": "plain-aircraft",
   "metadata": {},
   "outputs": [],
   "source": [
    "PATH_CODED_IDS_TRAIN = \"data/users/coded_ids_labels_train.csv\"\n",
    "PATH_CODED_IDS_TEST = \"data/users/coded_ids_labels_test.csv\"\n",
    "PATH_FEATURES = \"data/users_features/features.csv\"\n",
    "PATH_CODED = \"data/users/coded_ids.csv\""
   ]
  },
  {
   "cell_type": "code",
   "execution_count": 1674,
   "id": "desirable-delivery",
   "metadata": {
    "scrolled": true
   },
   "outputs": [
    {
     "name": "stdout",
     "output_type": "stream",
     "text": [
      "number of elements in train :  686\n"
     ]
    }
   ],
   "source": [
    "report_users = pd.read_csv(PATH_CODED_IDS_TEST)\n",
    "coded_ids = pd.read_csv(PATH_CODED)\n",
    "train_users = pd.read_csv(PATH_CODED_IDS_TRAIN)\n",
    "features = pd.read_csv(PATH_FEATURES)\n",
    "print(\"number of elements in train : \" , len(train_users))"
   ]
  },
  {
   "cell_type": "markdown",
   "id": "dress-darwin",
   "metadata": {
    "scrolled": false,
    "pycharm": {
     "name": "#%% md\n"
    }
   },
   "source": [
    "## Plot of spam/legit pie chart"
   ]
  },
  {
   "cell_type": "code",
   "execution_count": 1675,
   "outputs": [
    {
     "name": "stdout",
     "output_type": "stream",
     "text": [
      "118\n",
      "568\n"
     ]
    },
    {
     "data": {
      "text/plain": "<Figure size 432x288 with 1 Axes>",
      "image/png": "[encoded data removed]"
     },
     "metadata": {},
     "output_type": "display_data"
    }
   ],
   "source": [
    "spam_counter = 0\n",
    "legit_counter = 0\n",
    "train_len = len(train_users)\n",
    "for i in train_users[:]['label']:\n",
    "    if i == 1:\n",
    "        spam_counter += 1\n",
    "    else:\n",
    "        legit_counter += 1\n",
    "print(spam_counter)\n",
    "print(legit_counter)\n",
    "\n",
    "labels = 'Spam', 'Legit'\n",
    "pie_sizes = [100 / train_len * spam_counter, 100 / train_len * legit_counter]\n",
    "fig1, ax1 = plt.subplots()\n",
    "ax1.pie(pie_sizes, explode=(0.1, 0), labels=labels, autopct='%1.1f%%',\n",
    "        shadow=True, startangle=90)\n",
    "ax1.axis('equal')\n",
    "\n",
    "plt.show()"
   ],
   "metadata": {
    "collapsed": false,
    "pycharm": {
     "name": "#%%\n"
    }
   }
  },
  {
   "cell_type": "markdown",
   "source": [
    "## Data preprocessing"
   ],
   "metadata": {
    "collapsed": false,
    "pycharm": {
     "name": "#%% md\n"
    }
   }
  },
  {
   "cell_type": "code",
   "execution_count": 1676,
   "outputs": [
    {
     "name": "stdout",
     "output_type": "stream",
     "text": [
      "columns with NaN deleted :  ['spam_in_screen_name', 'time_zone', 'utc_offset']\n",
      "number of features :  136\n",
      "number of object type features :  0\n"
     ]
    }
   ],
   "source": [
    "#NaN clearing\n",
    "# print(features.dtypes.to_string(max_rows=10000))\n",
    "(value_nan, features_nan) = np.where(pd.isnull(features))\n",
    "features_nan = list(dict.fromkeys(features_nan))\n",
    "\n",
    "print(\"columns with NaN deleted : \", list(features.columns[features_nan]))\n",
    "\n",
    "#Dropping of NaN containing columns\n",
    "# features = features.drop(list(features.columns[features_nan]), axis=1)\n",
    "\n",
    "#Dropping of Null containing columns\n",
    "features = features.drop('spam_in_screen_name', axis=1)\n",
    "\n",
    "#Object features clearing\n",
    "features = features.select_dtypes(exclude=[object])\n",
    "print('number of features : ', len(features.columns))\n",
    "print('number of object type features : ', len(features.dtypes[features.dtypes == object]))\n",
    "\n"
   ],
   "metadata": {
    "collapsed": false,
    "pycharm": {
     "name": "#%%\n"
    }
   }
  },
  {
   "cell_type": "markdown",
   "source": [
    "## Joining tables and splitting train/test"
   ],
   "metadata": {
    "collapsed": false
   }
  },
  {
   "cell_type": "code",
   "execution_count": 1677,
   "id": "employed-intellectual",
   "metadata": {},
   "outputs": [],
   "source": [
    "features_ids = pd.merge(features, coded_ids, on='user_id', how='right')\n",
    "features = pd.merge(features_ids, train_users, on='coded_id')\n",
    "report_features = pd.merge(features_ids, report_users, on='coded_id')\n",
    "\n",
    "#Setting values type to float64\n",
    "features = features.apply(pd.to_numeric).astype('float64')\n",
    "# report_features = pd.merge(features_ids, report_users, on='coded_id')\n",
    "#Removing user_id and coded_id\n",
    "X = features.iloc[:, :-3]\n",
    "ids_report = report_features['coded_id']\n",
    "X_report = report_features.iloc[:, :-3]\n",
    "y = features.loc[:, 'label']\n",
    "X_train, X_test, y_train, y_test = train_test_split(\n",
    "    X, y, test_size=0.20, random_state=40\n",
    ")\n",
    "\n",
    "\n",
    "X_train = X_train.fillna(X_train.mean())\n",
    "y_train = y_train.fillna(y_train.mean())\n",
    "X_test = X_test.fillna(X_test.mean())\n",
    "y_test = y_test.fillna(y_test.mean())\n",
    "X_report = X_report.fillna(X_report.mean())\n",
    "\n",
    "\n",
    "\n",
    "\n",
    "(value_nan, features_nan) = np.where(pd.isnull(X_train))\n",
    "features_nan = list(dict.fromkeys(X_train))\n",
    "# print(features_nan)\n",
    "# print(\"columns with NaN deleted : \", list(X_train.columns[features_nan]))\n",
    "\n",
    "\n",
    "#Normalizing\n",
    "scaler = StandardScaler()\n",
    "X_train_scaled = scaler.fit_transform(X_train.values)\n",
    "X_test_scaled = scaler.fit_transform(X_test.values)\n",
    "X_report_scaled = scaler.fit_transform(X_report.values)\n",
    "X_train = pd.DataFrame(X_train_scaled, columns=X_train.columns)\n",
    "X_test = pd.DataFrame(X_test_scaled, columns=X_test.columns)\n",
    "X_report = pd.DataFrame(X_report_scaled, columns=X_report.columns)\n",
    "\n",
    "# print(y_train.to_string(max_rows=150000))\n",
    "# for j in X_train.isnull().values:\n",
    "#     [print(i) for i in j if i == False]\n",
    "\n",
    "# for j in X_train.isnull().values:\n",
    "#     [print(i) for i in j if i == True]\n",
    "\n",
    "\n",
    "# print(X_train.isnull().sum().to_string(max_rows=1500))"
   ]
  },
  {
   "cell_type": "markdown",
   "source": [
    "## Plot of the best features"
   ],
   "metadata": {
    "collapsed": false,
    "pycharm": {
     "name": "#%% md\n"
    }
   }
  },
  {
   "cell_type": "code",
   "execution_count": 1678,
   "outputs": [
    {
     "name": "stderr",
     "output_type": "stream",
     "text": [
      "d:\\python\\3.9.1\\lib\\site-packages\\sklearn\\feature_selection\\_univariate_selection.py:301: RuntimeWarning: invalid value encountered in true_divide\n",
      "  corr /= X_norms\n"
     ]
    },
    {
     "name": "stdout",
     "output_type": "stream",
     "text": [
      "[ 87 128 127 111  99  30   5  72  29 101  73  59  41  47  75 112  46  93\n",
      "  42 107   3 118  22  78  95 130   8  58  84  11 116 132  86   2  96 104\n",
      "  53  25  54   9  97  24 100 106   4  52  79   7 129  61  63  51  39  36\n",
      "  88  74  40  13   1  15  81  89  65  21  66 134   6 103  62  55 133  83\n",
      "  48  60  69  90  85 121  14  12 102   0  34 117  43 113  98 126  31 105\n",
      "  27  49  17  16  23  26  35  37 109 108  82  77  38  50 122  19  20  80\n",
      "  76  91 120 125  32 119  28  18 114 131  45 123  33 110 124  68 115  10\n",
      "  64  44  94  67  92  70  57  56  71]\n",
      "Index(['active_tweeting_frequency_per_day', 'adjusted_nb_of_uses_of_hashtag',\n",
      "       'adjusted_nb_of_uses_of_mention', 'adjusted_nb_of_uses_of_sources',\n",
      "       'adjusted_nb_of_uses_of_url', 'age', 'avg_intertweet_times_seconds',\n",
      "       'content_duration_days', 'default_profile', 'default_profile_image',\n",
      "       ...\n",
      "       'temporal_bin_6', 'temporal_bin_7', 'time_since_newest_tweet_days',\n",
      "       'time_since_newest_tweet_months', 'tweeting_frequency_per_day',\n",
      "       'tweets_with_at_top_20', 'tweets_with_hashtags_top_20',\n",
      "       'tweets_with_urls_top_20', 'urls_used_on_average', 'user_id'],\n",
      "      dtype='object', length=135)\n",
      "[2.79909440e-03 7.52657717e-03 7.72071366e-03 1.29365399e-02\n",
      " 1.95322316e-02 2.64782099e-02 6.07317382e-02 1.01210232e-01\n",
      " 1.50431688e-01 1.65778921e-01 2.78890880e-01 2.90280477e-01\n",
      " 3.32361516e-01 3.34239094e-01 3.66250993e-01 5.48820069e-01\n",
      " 1.01157117e+00 1.18363093e+00 1.35886576e+00 1.55744053e+00\n",
      " 1.73489485e+00 1.75505469e+00 2.62507927e+00 3.26144945e+00\n",
      " 3.54720218e+00 3.54720218e+00 3.58465177e+00 3.62426967e+00\n",
      " 4.11034599e+00 4.21761310e+00 4.73275917e+00 4.84126237e+00\n",
      " 5.46288563e+00 5.54495578e+00 5.73377623e+00 5.97715000e+00\n",
      " 6.91924479e+00 7.21991045e+00 7.21991045e+00 7.49932958e+00\n",
      " 7.58460392e+00 8.13939384e+00 9.29124053e+00 1.07758912e+01\n",
      " 1.31492469e+01 1.32383865e+01 1.32703539e+01 1.33911862e+01\n",
      " 1.36484420e+01 1.38966261e+01 1.55649685e+01 1.56524532e+01\n",
      " 1.57679635e+01 1.64017056e+01 1.71857382e+01 1.72333440e+01\n",
      " 1.88845836e+01 1.90481424e+01 2.06537423e+01 2.18550764e+01\n",
      " 2.29897826e+01 2.44289541e+01 2.52092686e+01 2.55118949e+01\n",
      " 2.61190548e+01 2.61481064e+01 2.63288139e+01 2.63769978e+01\n",
      " 2.74325423e+01 3.01036917e+01 3.06532384e+01 3.12665170e+01\n",
      " 3.27397169e+01 3.47263395e+01 3.52157423e+01 3.96892359e+01\n",
      " 4.09627561e+01 4.27278124e+01 4.37574474e+01 4.40584596e+01\n",
      " 4.49820224e+01 4.60741599e+01 4.64757639e+01 4.67241859e+01\n",
      " 4.73273746e+01 4.86782633e+01 5.11465973e+01 5.35889401e+01\n",
      " 5.53020679e+01 6.10055833e+01 6.26756694e+01 6.41144177e+01\n",
      " 6.57840615e+01 7.12046991e+01 7.15652954e+01 7.25961705e+01\n",
      " 7.45198824e+01 7.58355308e+01 8.10414608e+01 8.28583618e+01\n",
      " 8.50227858e+01 8.61471537e+01 8.67603913e+01 8.71169792e+01\n",
      " 8.81457553e+01 9.37302660e+01 9.91428126e+01 1.05775571e+02\n",
      " 1.06653019e+02 1.12293922e+02 1.12950882e+02 1.13496759e+02\n",
      " 1.13775288e+02 1.19428424e+02 1.26315877e+02 1.47821215e+02\n",
      " 1.48044854e+02 1.50708600e+02 1.51750515e+02 1.52766185e+02\n",
      " 1.54055738e+02 1.71907960e+02 1.72405619e+02 1.78142275e+02\n",
      " 1.83904020e+02 1.99260347e+02 2.33256243e+02 2.45681706e+02\n",
      " 2.66282632e+02 2.66282632e+02 3.97161799e+02            nan\n",
      "            nan            nan            nan]\n",
      "[ 87 128 127 111  99  30   5  72  29 101  73  59  41  47  75 112  46  93\n",
      "  42 107   3 118  22  78  95 130   8  58  84  11 116 132  86   2  96 104\n",
      "  53  25  54   9  97  24 100 106   4  52  79   7 129  61  63  51  39  36\n",
      "  88  74  40  13   1  15  81  89  65  21  66 134   6 103  62  55 133  83\n",
      "  48  60  69  90  85 121  14  12 102   0  34 117  43 113  98 126  31 105\n",
      "  27  49  17  16  23  26  35  37 109 108  82  77  38  50 122  19  20  80\n",
      "  76  91 120 125  32 119  28  18 114 131  45 123  33 110 124  68 115  10\n",
      "  64  44  94  67  92  70  57  56  71]\n"
     ]
    },
    {
     "data": {
      "text/plain": "<Figure size 432x288 with 1 Axes>",
      "image/png": "[encoded data removed]"
     },
     "metadata": {
      "needs_background": "light"
     },
     "output_type": "display_data"
    }
   ],
   "source": [
    "kb = SelectKBest(score_func=f_regression, k=10)\n",
    "kb.fit(X, y)\n",
    "indices = np.argsort(-1*kb.scores_)\n",
    "\n",
    "print(indices)\n",
    "plt.figure()\n",
    "plt.bar(X.columns[indices[:30]], kb.scores_[indices[range(30)]], color=(0.9,0.5,0.2), align='center')\n",
    "plt.xticks(rotation=90)\n",
    "\n",
    "print(X.columns)\n",
    "print(kb.scores_[np.argsort(kb.scores_)])\n",
    "print(indices)"
   ],
   "metadata": {
    "collapsed": false,
    "pycharm": {
     "name": "#%%\n"
    }
   }
  },
  {
   "cell_type": "markdown",
   "source": [
    "## LinearSVC with all non object features"
   ],
   "metadata": {
    "collapsed": false
   }
  },
  {
   "cell_type": "code",
   "execution_count": 1679,
   "outputs": [
    {
     "name": "stdout",
     "output_type": "stream",
     "text": [
      "final train score :  1.0\n",
      "              precision    recall  f1-score   support\n",
      "\n",
      "         0.0       0.95      0.95      0.95       107\n",
      "         1.0       0.84      0.84      0.84        31\n",
      "\n",
      "    accuracy                           0.93       138\n",
      "   macro avg       0.90      0.90      0.90       138\n",
      "weighted avg       0.93      0.93      0.93       138\n",
      "\n"
     ]
    },
    {
     "name": "stderr",
     "output_type": "stream",
     "text": [
      "d:\\python\\3.9.1\\lib\\site-packages\\sklearn\\svm\\_base.py:985: ConvergenceWarning: Liblinear failed to converge, increase the number of iterations.\n",
      "  warnings.warn(\"Liblinear failed to converge, increase \"\n"
     ]
    }
   ],
   "source": [
    "linearSVC_full = LinearSVC()\n",
    "linearSVC_full.fit(X_train, y_train)\n",
    "score = linearSVC_full.score(X_train, y_train)\n",
    "print(\"final train score : \", score)\n",
    "\n",
    "\n",
    "y_pred = linearSVC_full.predict(X_test)\n",
    "\n",
    "test_report = classification_report(y_test, y_pred)\n",
    "print(test_report)"
   ],
   "metadata": {
    "collapsed": false,
    "pycharm": {
     "name": "#%%\n"
    }
   }
  },
  {
   "cell_type": "markdown",
   "source": [
    "## LinearSVC with top 5 non object features"
   ],
   "metadata": {
    "collapsed": false
   }
  },
  {
   "cell_type": "code",
   "execution_count": 1680,
   "outputs": [
    {
     "name": "stdout",
     "output_type": "stream",
     "text": [
      "feature : nb_urls | mean : 2.1302594218222487e-17 | median : -0.33270331302897704 | variance: 1.0018281535648996 | min : -1.0306499604090253 | max : 5.351729208118353\n",
      "feature : time_since_newest_tweet_months | mean : -4.144343019614664e-17 | median : -0.3565792969056095 | variance: 1.0018281535648994 | min : -0.3632792953525244 | max : 7.723618830073798\n",
      "feature : time_since_newest_tweet_days | mean : 7.717620135823825e-18 | median : -0.3565792969056094 | variance: 1.0018281535648992 | min : -0.36327929535252435 | max : 7.723618830073798\n",
      "feature : replicates | mean : 2.9571020713206834e-17 | median : -0.39768607930312666 | variance: 1.0018281535648994 | min : -0.6059115407874331 | max : 5.57678293097736\n",
      "feature : std_nb_mentions_per_tweet | mean : -2.745657916797039e-17 | median : -0.04235500724633792 | variance: 1.0018281535648994 | min : -1.674182054031672 | max : 3.971999487149537\n",
      "\n",
      "final train score :  0.9598540145985401\n",
      "              precision    recall  f1-score   support\n",
      "\n",
      "         0.0       0.91      0.96      0.94       107\n",
      "         1.0       0.84      0.68      0.75        31\n",
      "\n",
      "    accuracy                           0.90       138\n",
      "   macro avg       0.88      0.82      0.84       138\n",
      "weighted avg       0.90      0.90      0.89       138\n",
      "\n"
     ]
    },
    {
     "name": "stderr",
     "output_type": "stream",
     "text": [
      "d:\\python\\3.9.1\\lib\\site-packages\\sklearn\\svm\\_base.py:985: ConvergenceWarning: Liblinear failed to converge, increase the number of iterations.\n",
      "  warnings.warn(\"Liblinear failed to converge, increase \"\n"
     ]
    }
   ],
   "source": [
    "X_top_features = ['nb_urls', 'time_since_newest_tweet_months', 'time_since_newest_tweet_days', 'replicates', 'std_nb_mentions_per_tweet']\n",
    "for feature in X_top_features:\n",
    "    print(\"feature : {} | mean : {} | median : {} | variance: {} | min : {} | max : {}\"\n",
    "          .format(feature, stcs.mean(X_train[feature]), stcs.median(X_train[feature]), stcs.variance(X_train[feature]), X_train[feature].min(), X_train[feature].max()))\n",
    "\n",
    "linearSVC = LinearSVC()\n",
    "linearSVC.fit(X_train[X_top_features], y_train)\n",
    "score = linearSVC.score(X_train[X_top_features], y_train)\n",
    "print(\"\\nfinal train score : \", score)\n",
    "\n",
    "\n",
    "y_pred = linearSVC.predict(X_test[X_top_features])\n",
    "\n",
    "test_report = classification_report(y_test, y_pred)\n",
    "print(test_report)"
   ],
   "metadata": {
    "collapsed": false,
    "pycharm": {
     "name": "#%%\n"
    }
   }
  },
  {
   "cell_type": "markdown",
   "source": [
    "## SVC (RBF)"
   ],
   "metadata": {
    "collapsed": false
   }
  },
  {
   "cell_type": "code",
   "execution_count": 1681,
   "outputs": [
    {
     "name": "stdout",
     "output_type": "stream",
     "text": [
      "              precision    recall  f1-score   support\n",
      "\n",
      "         0.0       0.98      0.98      0.98       107\n",
      "         1.0       0.94      0.94      0.94        31\n",
      "\n",
      "    accuracy                           0.97       138\n",
      "   macro avg       0.96      0.96      0.96       138\n",
      "weighted avg       0.97      0.97      0.97       138\n",
      "\n"
     ]
    }
   ],
   "source": [
    "SVC_RBF = svm.SVC(kernel='rbf', C=1)\n",
    "SVC_RBF.fit(X_train, y_train)\n",
    "score = SVC_RBF.score(X_train, y_train)\n",
    "y_pred = SVC_RBF.predict(X_test)\n",
    "\n",
    "test_report = classification_report(y_test, y_pred)\n",
    "print(test_report)"
   ],
   "metadata": {
    "collapsed": false,
    "pycharm": {
     "name": "#%%\n"
    }
   }
  },
  {
   "cell_type": "markdown",
   "source": [
    "## report prediction"
   ],
   "metadata": {
    "collapsed": false
   }
  },
  {
   "cell_type": "code",
   "execution_count": 1682,
   "outputs": [
    {
     "name": "stdout",
     "output_type": "stream",
     "text": [
      "    coded_id  label\n",
      "0          5      0\n",
      "1         26      1\n",
      "2         37      1\n",
      "3         40      0\n",
      "4         52      1\n",
      "..       ...    ...\n",
      "76       729      0\n",
      "77       745      0\n",
      "78       746      0\n",
      "79       757      0\n",
      "80       762      0\n",
      "\n",
      "[81 rows x 2 columns]\n"
     ]
    }
   ],
   "source": [
    "report_pred = SVC_RBF.predict(X_report)\n",
    "\n",
    "report_df = DataFrame({'coded_id': ids_report\n",
    "                      ,'label': map(int, report_pred.tolist())})\n",
    "\n",
    "print(report_df)\n",
    "# report_df.to_csv(\"coded_ids_labels_test.csv\", index=False, index_label=['coded_id', 'label'])"
   ],
   "metadata": {
    "collapsed": false,
    "pycharm": {
     "name": "#%%\n"
    }
   }
  }
 ],
 "metadata": {
  "kernelspec": {
   "display_name": "Python 3",
   "language": "python",
   "name": "python3"
  },
  "language_info": {
   "codemirror_mode": {
    "name": "ipython",
    "version": 3
   },
   "file_extension": ".py",
   "mimetype": "text/x-python",
   "name": "python",
   "nbconvert_exporter": "python",
   "pygments_lexer": "ipython3",
   "version": "3.9.1"
  }
 },
 "nbformat": 4,
 "nbformat_minor": 5
}
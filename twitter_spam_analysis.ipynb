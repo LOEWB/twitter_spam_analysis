{
 "cells": [
  {
   "cell_type": "code",
   "execution_count": 586,
   "id": "virtual-astrology",
   "metadata": {
    "scrolled": true
   },
   "outputs": [],
   "source": [
    "import pandas as pd\n",
    "import numpy as np\n",
    "import matplotlib.pyplot as plt\n",
    "from sklearn.model_selection import train_test_split\n",
    "from sklearn.metrics import classification_report\n",
    "from sklearn.svm import LinearSVC\n",
    "from sklearn.feature_selection import SelectKBest, f_regression"
   ]
  },
  {
   "cell_type": "code",
   "execution_count": 587,
   "id": "plain-aircraft",
   "metadata": {},
   "outputs": [],
   "source": [
    "PATH_CODED_IDS_TRAIN = \"data/users/coded_ids_labels_train.csv\"\n",
    "PATH_CODED_IDS_TEST = \"data/users/coded_ids_labels_test.csv\"\n",
    "PATH_FEATURES = \"data/users_features/features.csv\"\n",
    "PATH_CODED = \"data/users/coded_ids.csv\""
   ]
  },
  {
   "cell_type": "code",
   "execution_count": 588,
   "id": "desirable-delivery",
   "metadata": {
    "scrolled": true
   },
   "outputs": [
    {
     "name": "stdout",
     "output_type": "stream",
     "text": [
      "number of elements in train :  686\n"
     ]
    }
   ],
   "source": [
    "report_users = pd.read_csv(PATH_CODED_IDS_TEST)\n",
    "coded_ids = pd.read_csv(PATH_CODED)\n",
    "train_users = pd.read_csv(PATH_CODED_IDS_TRAIN)\n",
    "features = pd.read_csv(PATH_FEATURES)\n",
    "print(\"number of elements in train : \" , len(train_users))"
   ]
  },
  {
   "cell_type": "markdown",
   "id": "dress-darwin",
   "metadata": {
    "scrolled": false,
    "pycharm": {
     "name": "#%% md\n"
    }
   },
   "source": [
    "## Plot of spam/legit pie chart"
   ]
  },
  {
   "cell_type": "code",
   "execution_count": 589,
   "outputs": [
    {
     "name": "stdout",
     "output_type": "stream",
     "text": [
      "118\n",
      "568\n"
     ]
    },
    {
     "data": {
      "text/plain": "<Figure size 432x288 with 1 Axes>",
      "image/png": "[encoded data removed]"
     },
     "metadata": {},
     "output_type": "display_data"
    }
   ],
   "source": [
    "spam_counter = 0\n",
    "legit_counter = 0\n",
    "train_len = len(train_users)\n",
    "for i in train_users[:]['label']:\n",
    "    if i == 1:\n",
    "        spam_counter += 1\n",
    "    else:\n",
    "        legit_counter += 1\n",
    "print(spam_counter)\n",
    "print(legit_counter)\n",
    "\n",
    "labels = 'Spam', 'Legit'\n",
    "pie_sizes = [100 / train_len * spam_counter, 100 / train_len * legit_counter]\n",
    "fig1, ax1 = plt.subplots()\n",
    "ax1.pie(pie_sizes, explode=(0.1, 0), labels=labels, autopct='%1.1f%%',\n",
    "        shadow=True, startangle=90)\n",
    "ax1.axis('equal')\n",
    "\n",
    "plt.show()"
   ],
   "metadata": {
    "collapsed": false,
    "pycharm": {
     "name": "#%%\n"
    }
   }
  },
  {
   "cell_type": "markdown",
   "source": [
    "## Data preprocessing"
   ],
   "metadata": {
    "collapsed": false,
    "pycharm": {
     "name": "#%% md\n"
    }
   }
  },
  {
   "cell_type": "code",
   "execution_count": 590,
   "outputs": [
    {
     "name": "stdout",
     "output_type": "stream",
     "text": [
      "columns with NaN deleted :  ['spam_in_screen_name', 'time_zone', 'utc_offset']\n",
      "number of features :  135\n",
      "number of object type features :  0\n"
     ]
    }
   ],
   "source": [
    "#NaN clearing\n",
    "# print(features.dtypes.to_string(max_rows=10000))\n",
    "(value_nan, features_nan) = np.where(pd.isnull(features))\n",
    "features_nan = list(dict.fromkeys(features_nan))\n",
    "\n",
    "print(\"columns with NaN deleted : \", list(features.columns[features_nan]))\n",
    "\n",
    "#Removing of NaN containing columns\n",
    "features = features.drop(list(features.columns[features_nan]), axis=1)\n",
    "\n",
    "#Object features clearing\n",
    "features = features.select_dtypes(exclude=[object])\n",
    "print('number of features : ', len(features.columns))\n",
    "print('number of object type features : ', len(features.dtypes[features.dtypes == object]))\n",
    "\n",
    "#Setting values type to float64\n",
    "features = features.apply(pd.to_numeric).astype('float64')"
   ],
   "metadata": {
    "collapsed": false,
    "pycharm": {
     "name": "#%%\n"
    }
   }
  },
  {
   "cell_type": "markdown",
   "source": [
    "## Joining tables and splitting train/test"
   ],
   "metadata": {
    "collapsed": false
   }
  },
  {
   "cell_type": "code",
   "execution_count": 591,
   "id": "employed-intellectual",
   "metadata": {},
   "outputs": [],
   "source": [
    "features_ids = pd.merge(features, coded_ids, on='user_id')\n",
    "features = pd.merge(features_ids, train_users, on='coded_id')\n",
    "report_features = pd.merge(features_ids, report_users, on='coded_id')\n",
    "\n",
    "X = features.loc[:, features.columns != 'label']\n",
    "#Removing user_id and coded_id\n",
    "X = X.iloc[:, :-2]\n",
    "y = features.loc[:, 'label']\n",
    "X_train, X_test, y_train, y_test = train_test_split(\n",
    "    X, y, test_size=0.20, random_state=40\n",
    ")"
   ]
  },
  {
   "cell_type": "markdown",
   "source": [
    "## Plot of the best features"
   ],
   "metadata": {
    "collapsed": false,
    "pycharm": {
     "name": "#%% md\n"
    }
   }
  },
  {
   "cell_type": "code",
   "execution_count": 592,
   "outputs": [
    {
     "name": "stderr",
     "output_type": "stream",
     "text": [
      "d:\\python\\3.9.1\\lib\\site-packages\\sklearn\\feature_selection\\_univariate_selection.py:301: RuntimeWarning: invalid value encountered in true_divide\n",
      "  corr /= X_norms\n"
     ]
    },
    {
     "name": "stdout",
     "output_type": "stream",
     "text": [
      "Index(['active_tweeting_frequency_per_day', 'adjusted_nb_of_uses_of_hashtag',\n",
      "       'adjusted_nb_of_uses_of_mention', 'adjusted_nb_of_uses_of_sources',\n",
      "       'adjusted_nb_of_uses_of_url', 'age', 'avg_intertweet_times_seconds',\n",
      "       'content_duration_days', 'default_profile', 'default_profile_image',\n",
      "       ...\n",
      "       'temporal_bin_5', 'temporal_bin_6', 'temporal_bin_7',\n",
      "       'time_since_newest_tweet_days', 'time_since_newest_tweet_months',\n",
      "       'tweeting_frequency_per_day', 'tweets_with_at_top_20',\n",
      "       'tweets_with_hashtags_top_20', 'tweets_with_urls_top_20',\n",
      "       'urls_used_on_average'],\n",
      "      dtype='object', length=134)\n",
      "[5.62386738e-03 6.18032241e-03 1.02771071e-02 1.38122824e-02\n",
      " 1.55172295e-02 7.19374069e-02 8.47669730e-02 1.52154464e-01\n",
      " 1.63862359e-01 1.97521704e-01 3.06351002e-01 3.24518835e-01\n",
      " 3.97896881e-01 5.33777668e-01 6.14905796e-01 8.99584096e-01\n",
      " 9.21844542e-01 9.26460999e-01 1.00610216e+00 1.43912266e+00\n",
      " 1.78731939e+00 2.42493559e+00 2.92577770e+00 3.05265588e+00\n",
      " 3.14340291e+00 3.36575603e+00 3.41412391e+00 3.41412391e+00\n",
      " 3.61372205e+00 4.24506742e+00 5.28042725e+00 5.43668466e+00\n",
      " 5.60618435e+00 5.70705910e+00 5.92547637e+00 6.13600629e+00\n",
      " 6.81517582e+00 6.81517582e+00 6.83079259e+00 8.51170599e+00\n",
      " 8.85133042e+00 8.90727453e+00 9.05871422e+00 1.08640980e+01\n",
      " 1.12898036e+01 1.24421484e+01 1.24765603e+01 1.26895533e+01\n",
      " 1.32217506e+01 1.37392582e+01 1.38357614e+01 1.51129444e+01\n",
      " 1.51184738e+01 1.55196598e+01 1.56360538e+01 1.56786431e+01\n",
      " 1.62668338e+01 1.64224299e+01 2.06425517e+01 2.09101751e+01\n",
      " 2.30884320e+01 2.33274785e+01 2.51854215e+01 2.58648211e+01\n",
      " 2.70076405e+01 2.70163810e+01 2.74092809e+01 2.76439203e+01\n",
      " 2.81417533e+01 3.34308649e+01 3.46704889e+01 3.47632913e+01\n",
      " 3.61516268e+01 3.72597711e+01 3.92086410e+01 4.07788934e+01\n",
      " 4.26948789e+01 4.44189228e+01 4.80253125e+01 4.83681735e+01\n",
      " 4.88133268e+01 4.91968415e+01 4.96083548e+01 4.99920960e+01\n",
      " 5.38830731e+01 5.53916659e+01 5.71370737e+01 5.98418452e+01\n",
      " 6.03171042e+01 6.17257153e+01 6.19919493e+01 6.30952583e+01\n",
      " 6.55991064e+01 6.79180060e+01 7.02725299e+01 7.12167083e+01\n",
      " 7.36809095e+01 7.54588714e+01 7.65725280e+01 8.05557511e+01\n",
      " 8.07097924e+01 8.22043404e+01 8.26058728e+01 8.71581085e+01\n",
      " 8.75677949e+01 9.08611037e+01 9.74631929e+01 1.03248116e+02\n",
      " 1.08094241e+02 1.09234617e+02 1.11635850e+02 1.12065294e+02\n",
      " 1.14159842e+02 1.19888056e+02 1.38178338e+02 1.41105806e+02\n",
      " 1.41739221e+02 1.44048561e+02 1.44457369e+02 1.45903000e+02\n",
      " 1.61738147e+02 1.62849633e+02 1.69861991e+02 1.86031517e+02\n",
      " 1.86882160e+02 2.35993435e+02 2.37918870e+02 2.66194751e+02\n",
      " 2.66194751e+02 3.79402497e+02            nan            nan\n",
      "            nan            nan]\n",
      "[ 57  56  70  71  87 128 127  99 111  30   5  72 101  29  73  75  41  59\n",
      " 112  47  46  78   3  93  42 107 118  22  95 130   8  11  58  84  86  15\n",
      " 132 116 104   2  96  53  24  25  54  97   9 100 106  52  39   4  79 129\n",
      "  51   7  63  88  40  74  61  36  55   1  13  65  81  21   6  66  62  83\n",
      " 103  89 133  69  48  34  85  60  12   0  14 121  90 102 113 117  43  27\n",
      "  98 105 126  31 109  77  17  16  26 108  23  35  49  38  82  37  20  19\n",
      "  50  91  80 122  76 120  32 125 119 131 110 123  18 114  45  33  28  10\n",
      " 124  68 115  64  67  44  92  94]\n",
      "['median_nb_symbols_per_word_in_the_tweet', 'median_nb_symbols_per_tweet', 'min_nb_symbols_per_tweet', 'min_nb_symbols_per_word_in_the_tweet', 'nb_urls', 'time_since_newest_tweet_months', 'time_since_newest_tweet_days', 'replicates', 'std_nb_mentions_per_tweet', 'max_nb_mentions_per_word_in_the_tweet', 'age', 'min_nb_urls_per_tweet', 'reputation', 'max_nb_mentions_per_tweet', 'min_nb_urls_per_word_in_the_tweet', 'nb_collected_tweets', 'mean_nb_mentions_per_tweet', 'median_nb_urls_per_word_in_the_tweet', 'std_nb_mentions_per_word_in_the_tweet', 'mean_nb_urls_per_word_in_the_tweet', 'mean_nb_urls_per_tweet', 'nb_hashtags', 'adjusted_nb_of_uses_of_sources', 'portion_of_tweets_with_mentions', 'mean_nb_mentions_per_word_in_the_tweet', 'std_nb_characters_per_tweet', 'std_nb_words_per_tweet', 'len_description', 'portion_of_tweets_with_urls', 'tweets_with_at_top_20']\n"
     ]
    },
    {
     "data": {
      "text/plain": "<Figure size 432x288 with 1 Axes>",
      "image/png": "[encoded data removed]"
     },
     "metadata": {
      "needs_background": "light"
     },
     "output_type": "display_data"
    }
   ],
   "source": [
    "kb = SelectKBest(score_func=f_regression, k=10)\n",
    "kb.fit(X, y)\n",
    "indices = np.argsort(kb.scores_)[::-1]\n",
    "selected_features = []\n",
    "for i in range(30):\n",
    "  selected_features.append(X.columns[indices[i]])\n",
    "plt.figure()\n",
    "plt.bar(selected_features, kb.scores_[indices[range(30)]], color=(0.9,0.5,0.2), align='center')\n",
    "plt.xticks(rotation=90)\n",
    "\n",
    "print(X.columns)\n",
    "print(kb.scores_[np.argsort(kb.scores_[:])])\n",
    "print(indices)\n",
    "\n",
    "print(selected_features)"
   ],
   "metadata": {
    "collapsed": false,
    "pycharm": {
     "name": "#%%\n"
    }
   }
  },
  {
   "cell_type": "markdown",
   "source": [
    "## LinearSVC with all non object features"
   ],
   "metadata": {
    "collapsed": false
   }
  },
  {
   "cell_type": "code",
   "execution_count": 593,
   "outputs": [
    {
     "name": "stdout",
     "output_type": "stream",
     "text": [
      "final train score :  0.9018518518518519\n",
      "              precision    recall  f1-score   support\n",
      "\n",
      "           0       0.86      0.95      0.90       110\n",
      "           1       0.60      0.35      0.44        26\n",
      "\n",
      "    accuracy                           0.83       136\n",
      "   macro avg       0.73      0.65      0.67       136\n",
      "weighted avg       0.81      0.83      0.81       136\n",
      "\n"
     ]
    },
    {
     "name": "stderr",
     "output_type": "stream",
     "text": [
      "d:\\python\\3.9.1\\lib\\site-packages\\sklearn\\svm\\_base.py:985: ConvergenceWarning: Liblinear failed to converge, increase the number of iterations.\n",
      "  warnings.warn(\"Liblinear failed to converge, increase \"\n"
     ]
    }
   ],
   "source": [
    "# train_x = train_features[['nb_urls', 'time_since_newest_tweet_months']]\n",
    "# test_x = test_features[['nb_urls', 'time_since_newest_tweet_months']]\n",
    "# # train_x = train_features.iloc[:, :-1]\n",
    "# train_y = train_features[:]['label']\n",
    "# test_y = test_features[:]['label']\n",
    "# print(test_features)\n",
    "\n",
    "linearSVC = LinearSVC()\n",
    "linearSVC.fit(X_train, y_train)\n",
    "score = linearSVC.score(X_train, y_train)\n",
    "print(\"final train score : \", score)\n",
    "\n",
    "\n",
    "y_pred = linearSVC.predict(X_test)\n",
    "\n",
    "test_report = classification_report(y_test, y_pred)\n",
    "print(test_report)"
   ],
   "metadata": {
    "collapsed": false,
    "pycharm": {
     "name": "#%%\n"
    }
   }
  },
  {
   "cell_type": "markdown",
   "source": [
    "## LinearSVC with top 5 non object features"
   ],
   "metadata": {
    "collapsed": false
   }
  },
  {
   "cell_type": "code",
   "execution_count": 594,
   "outputs": [
    {
     "name": "stdout",
     "output_type": "stream",
     "text": [
      "final train score :  0.837037037037037\n",
      "              precision    recall  f1-score   support\n",
      "\n",
      "           0       0.81      1.00      0.89       110\n",
      "           1       0.00      0.00      0.00        26\n",
      "\n",
      "    accuracy                           0.81       136\n",
      "   macro avg       0.40      0.50      0.45       136\n",
      "weighted avg       0.65      0.81      0.72       136\n",
      "\n"
     ]
    },
    {
     "name": "stderr",
     "output_type": "stream",
     "text": [
      "d:\\python\\3.9.1\\lib\\site-packages\\sklearn\\svm\\_base.py:985: ConvergenceWarning: Liblinear failed to converge, increase the number of iterations.\n",
      "  warnings.warn(\"Liblinear failed to converge, increase \"\n",
      "d:\\python\\3.9.1\\lib\\site-packages\\sklearn\\metrics\\_classification.py:1245: UndefinedMetricWarning: Precision and F-score are ill-defined and being set to 0.0 in labels with no predicted samples. Use `zero_division` parameter to control this behavior.\n",
      "  _warn_prf(average, modifier, msg_start, len(result))\n",
      "d:\\python\\3.9.1\\lib\\site-packages\\sklearn\\metrics\\_classification.py:1245: UndefinedMetricWarning: Precision and F-score are ill-defined and being set to 0.0 in labels with no predicted samples. Use `zero_division` parameter to control this behavior.\n",
      "  _warn_prf(average, modifier, msg_start, len(result))\n",
      "d:\\python\\3.9.1\\lib\\site-packages\\sklearn\\metrics\\_classification.py:1245: UndefinedMetricWarning: Precision and F-score are ill-defined and being set to 0.0 in labels with no predicted samples. Use `zero_division` parameter to control this behavior.\n",
      "  _warn_prf(average, modifier, msg_start, len(result))\n"
     ]
    }
   ],
   "source": [
    "linearSVC = LinearSVC()\n",
    "linearSVC.fit(X_train[['median_nb_symbols_per_word_in_the_tweet', 'median_nb_symbols_per_tweet', 'min_nb_symbols_per_tweet', 'min_nb_symbols_per_word_in_the_tweet', 'nb_urls']], y_train)\n",
    "score = linearSVC.score(X_train[['median_nb_symbols_per_word_in_the_tweet', 'median_nb_symbols_per_tweet', 'min_nb_symbols_per_tweet', 'min_nb_symbols_per_word_in_the_tweet', 'nb_urls']], y_train)\n",
    "print(\"final train score : \", score)\n",
    "\n",
    "\n",
    "y_pred = linearSVC.predict(X_test[['median_nb_symbols_per_word_in_the_tweet', 'median_nb_symbols_per_tweet', 'min_nb_symbols_per_tweet', 'min_nb_symbols_per_word_in_the_tweet', 'nb_urls']])\n",
    "\n",
    "test_report = classification_report(y_test, y_pred)\n",
    "print(test_report)"
   ],
   "metadata": {
    "collapsed": false,
    "pycharm": {
     "name": "#%%\n"
    }
   }
  },
  {
   "cell_type": "markdown",
   "source": [
    "## report prediction"
   ],
   "metadata": {
    "collapsed": false
   }
  },
  {
   "cell_type": "code",
   "execution_count": 595,
   "outputs": [],
   "source": [
    "#report_pred = linearSVC.predict(report_x)\n"
   ],
   "metadata": {
    "collapsed": false,
    "pycharm": {
     "name": "#%%\n"
    }
   }
  }
 ],
 "metadata": {
  "kernelspec": {
   "display_name": "Python 3",
   "language": "python",
   "name": "python3"
  },
  "language_info": {
   "codemirror_mode": {
    "name": "ipython",
    "version": 3
   },
   "file_extension": ".py",
   "mimetype": "text/x-python",
   "name": "python",
   "nbconvert_exporter": "python",
   "pygments_lexer": "ipython3",
   "version": "3.9.1"
  }
 },
 "nbformat": 4,
 "nbformat_minor": 5
}
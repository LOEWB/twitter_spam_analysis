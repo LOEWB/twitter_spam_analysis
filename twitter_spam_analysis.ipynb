{
 "cells": [
  {
   "cell_type": "code",
   "execution_count": 1576,
   "id": "virtual-astrology",
   "metadata": {
    "scrolled": true
   },
   "outputs": [],
   "source": [
    "import pandas as pd\n",
    "import numpy as np\n",
    "import matplotlib.pyplot as plt\n",
    "import statistics as stcs\n",
    "from pandas import DataFrame\n",
    "from sklearn import svm\n",
    "from sklearn.model_selection import train_test_split\n",
    "from sklearn.metrics import classification_report\n",
    "from sklearn.svm import LinearSVC\n",
    "from sklearn.preprocessing import StandardScaler\n",
    "from sklearn.feature_selection import SelectKBest, f_regression"
   ]
  },
  {
   "cell_type": "code",
   "execution_count": 1577,
   "id": "plain-aircraft",
   "metadata": {},
   "outputs": [],
   "source": [
    "PATH_CODED_IDS_TRAIN = \"data/users/coded_ids_labels_train.csv\"\n",
    "PATH_CODED_IDS_TEST = \"data/users/coded_ids_labels_test.csv\"\n",
    "PATH_FEATURES = \"data/users_features/features.csv\"\n",
    "PATH_CODED = \"data/users/coded_ids.csv\""
   ]
  },
  {
   "cell_type": "code",
   "execution_count": 1578,
   "id": "desirable-delivery",
   "metadata": {
    "scrolled": true
   },
   "outputs": [
    {
     "name": "stdout",
     "output_type": "stream",
     "text": [
      "number of elements in train :  686\n"
     ]
    }
   ],
   "source": [
    "report_users = pd.read_csv(PATH_CODED_IDS_TEST)\n",
    "coded_ids = pd.read_csv(PATH_CODED)\n",
    "train_users = pd.read_csv(PATH_CODED_IDS_TRAIN)\n",
    "features = pd.read_csv(PATH_FEATURES)\n",
    "print(\"number of elements in train : \" , len(train_users))"
   ]
  },
  {
   "cell_type": "markdown",
   "id": "dress-darwin",
   "metadata": {
    "scrolled": false,
    "pycharm": {
     "name": "#%% md\n"
    }
   },
   "source": [
    "## Plot of spam/legit pie chart"
   ]
  },
  {
   "cell_type": "code",
   "execution_count": 1579,
   "outputs": [
    {
     "name": "stdout",
     "output_type": "stream",
     "text": [
      "118\n",
      "568\n"
     ]
    },
    {
     "data": {
      "text/plain": "<Figure size 432x288 with 1 Axes>",
      "image/png": "[encoded data removed]"
     },
     "metadata": {},
     "output_type": "display_data"
    }
   ],
   "source": [
    "spam_counter = 0\n",
    "legit_counter = 0\n",
    "train_len = len(train_users)\n",
    "for i in train_users[:]['label']:\n",
    "    if i == 1:\n",
    "        spam_counter += 1\n",
    "    else:\n",
    "        legit_counter += 1\n",
    "print(spam_counter)\n",
    "print(legit_counter)\n",
    "\n",
    "labels = 'Spam', 'Legit'\n",
    "pie_sizes = [100 / train_len * spam_counter, 100 / train_len * legit_counter]\n",
    "fig1, ax1 = plt.subplots()\n",
    "ax1.pie(pie_sizes, explode=(0.1, 0), labels=labels, autopct='%1.1f%%',\n",
    "        shadow=True, startangle=90)\n",
    "ax1.axis('equal')\n",
    "\n",
    "plt.show()"
   ],
   "metadata": {
    "collapsed": false,
    "pycharm": {
     "name": "#%%\n"
    }
   }
  },
  {
   "cell_type": "markdown",
   "source": [
    "## Data preprocessing"
   ],
   "metadata": {
    "collapsed": false,
    "pycharm": {
     "name": "#%% md\n"
    }
   }
  },
  {
   "cell_type": "code",
   "execution_count": 1580,
   "outputs": [
    {
     "name": "stdout",
     "output_type": "stream",
     "text": [
      "columns with NaN deleted :  ['spam_in_screen_name', 'time_zone', 'utc_offset']\n",
      "number of features :  136\n",
      "number of object type features :  0\n"
     ]
    }
   ],
   "source": [
    "#NaN clearing\n",
    "# print(features.dtypes.to_string(max_rows=10000))\n",
    "(value_nan, features_nan) = np.where(pd.isnull(features))\n",
    "features_nan = list(dict.fromkeys(features_nan))\n",
    "\n",
    "print(\"columns with NaN deleted : \", list(features.columns[features_nan]))\n",
    "\n",
    "#Dropping of NaN containing columns\n",
    "# features = features.drop(list(features.columns[features_nan]), axis=1)\n",
    "\n",
    "#Dropping of Null containing columns\n",
    "features = features.drop('spam_in_screen_name', axis=1)\n",
    "\n",
    "#Object features clearing\n",
    "features = features.select_dtypes(exclude=[object])\n",
    "print('number of features : ', len(features.columns))\n",
    "print('number of object type features : ', len(features.dtypes[features.dtypes == object]))\n",
    "\n"
   ],
   "metadata": {
    "collapsed": false,
    "pycharm": {
     "name": "#%%\n"
    }
   }
  },
  {
   "cell_type": "markdown",
   "source": [
    "## Joining tables and splitting train/test"
   ],
   "metadata": {
    "collapsed": false
   }
  },
  {
   "cell_type": "code",
   "execution_count": 1581,
   "id": "employed-intellectual",
   "metadata": {},
   "outputs": [],
   "source": [
    "features_ids = pd.merge(features, coded_ids, on='user_id', how='right')\n",
    "features = pd.merge(features_ids, train_users, on='coded_id')\n",
    "report_features = pd.merge(features_ids, report_users, on='coded_id')\n",
    "\n",
    "#Setting values type to float64\n",
    "features = features.apply(pd.to_numeric).astype('float64')\n",
    "# report_features = pd.merge(features_ids, report_users, on='coded_id')\n",
    "#Removing user_id and coded_id\n",
    "X = features.iloc[:, :-3]\n",
    "ids_report = report_features['coded_id']\n",
    "X_report = report_features.iloc[:, :-3]\n",
    "y = features.loc[:, 'label']\n",
    "X_train, X_test, y_train, y_test = train_test_split(\n",
    "    X, y, test_size=0.20, random_state=40\n",
    ")\n",
    "\n",
    "\n",
    "X_train = X_train.fillna(X_train.mean())\n",
    "y_train = y_train.fillna(y_train.mean())\n",
    "X_test = X_test.fillna(X_test.mean())\n",
    "y_test = y_test.fillna(y_test.mean())\n",
    "X_report = X_report.fillna(X_report.mean())\n",
    "\n",
    "\n",
    "\n",
    "\n",
    "(value_nan, features_nan) = np.where(pd.isnull(X_train))\n",
    "features_nan = list(dict.fromkeys(X_train))\n",
    "# print(features_nan)\n",
    "# print(\"columns with NaN deleted : \", list(X_train.columns[features_nan]))\n",
    "\n",
    "\n",
    "#Normalizing\n",
    "scaler = StandardScaler()\n",
    "X_train_scaled = scaler.fit_transform(X_train.values)\n",
    "X_test_scaled = scaler.fit_transform(X_test.values)\n",
    "X_report_scaled = scaler.fit_transform(X_report.values)\n",
    "X_train = pd.DataFrame(X_train_scaled, columns=X_train.columns)\n",
    "X_test = pd.DataFrame(X_test_scaled, columns=X_test.columns)\n",
    "X_report = pd.DataFrame(X_report_scaled, columns=X_report.columns)\n",
    "\n",
    "# print(y_train.to_string(max_rows=150000))\n",
    "# for j in X_train.isnull().values:\n",
    "#     [print(i) for i in j if i == False]\n",
    "\n",
    "# for j in X_train.isnull().values:\n",
    "#     [print(i) for i in j if i == True]\n",
    "\n",
    "\n",
    "# print(X_train.isnull().sum().to_string(max_rows=1500))"
   ]
  },
  {
   "cell_type": "markdown",
   "source": [
    "## Plot of the best features"
   ],
   "metadata": {
    "collapsed": false,
    "pycharm": {
     "name": "#%% md\n"
    }
   }
  },
  {
   "cell_type": "code",
   "execution_count": 1582,
   "outputs": [
    {
     "name": "stderr",
     "output_type": "stream",
     "text": [
      "d:\\python\\3.9.1\\lib\\site-packages\\sklearn\\feature_selection\\_univariate_selection.py:301: RuntimeWarning: invalid value encountered in true_divide\n",
      "  corr /= X_norms\n"
     ]
    },
    {
     "name": "stdout",
     "output_type": "stream",
     "text": [
      "Index(['active_tweeting_frequency_per_day', 'adjusted_nb_of_uses_of_hashtag',\n",
      "       'adjusted_nb_of_uses_of_mention', 'adjusted_nb_of_uses_of_sources',\n",
      "       'adjusted_nb_of_uses_of_url', 'age', 'avg_intertweet_times_seconds',\n",
      "       'content_duration_days', 'default_profile', 'default_profile_image',\n",
      "       ...\n",
      "       'temporal_bin_6', 'temporal_bin_7', 'time_since_newest_tweet_days',\n",
      "       'time_since_newest_tweet_months', 'tweeting_frequency_per_day',\n",
      "       'tweets_with_at_top_20', 'tweets_with_hashtags_top_20',\n",
      "       'tweets_with_urls_top_20', 'urls_used_on_average', 'user_id'],\n",
      "      dtype='object', length=135)\n",
      "[8.27559448e-04 1.57384349e-03 2.11656353e-03 3.11252796e-03\n",
      " 4.75973174e-03 6.19957410e-03 3.41898568e-02 6.96396925e-02\n",
      " 7.68012128e-02 7.98662837e-02 9.23045613e-02 1.00689736e-01\n",
      " 1.29273611e-01 3.01898064e-01 4.81794169e-01 4.89613478e-01\n",
      " 6.02991372e-01 7.59566370e-01 8.69432225e-01 1.16541959e+00\n",
      " 1.61887560e+00 1.82497515e+00 2.11777836e+00 2.32824083e+00\n",
      " 2.38738754e+00 2.51363114e+00 2.51363114e+00 2.69591855e+00\n",
      " 3.26649216e+00 3.64907619e+00 3.84312293e+00 4.34480572e+00\n",
      " 4.53821062e+00 4.62324178e+00 4.80584436e+00 5.21643480e+00\n",
      " 5.39801768e+00 5.39801768e+00 5.42229864e+00 5.85555202e+00\n",
      " 5.93995894e+00 6.16763813e+00 6.78230878e+00 6.82762282e+00\n",
      " 7.61031382e+00 7.71014160e+00 8.58880318e+00 9.00720532e+00\n",
      " 9.05485337e+00 9.24991547e+00 9.37770234e+00 9.49502095e+00\n",
      " 9.89999668e+00 1.17025688e+01 1.34003392e+01 1.34481785e+01\n",
      " 1.43360695e+01 1.54834127e+01 1.56560426e+01 1.57388520e+01\n",
      " 1.62198428e+01 1.69665773e+01 1.69940775e+01 1.81317906e+01\n",
      " 1.87608329e+01 1.88044372e+01 1.88812563e+01 1.90859502e+01\n",
      " 1.97471244e+01 2.00289221e+01 2.15916239e+01 2.21415639e+01\n",
      " 2.22740966e+01 2.27553894e+01 2.44558710e+01 2.59486972e+01\n",
      " 2.64343297e+01 2.67799478e+01 2.79229418e+01 2.82359147e+01\n",
      " 2.90665980e+01 2.92311162e+01 2.92942804e+01 2.94949856e+01\n",
      " 3.04435140e+01 3.11781519e+01 3.63980319e+01 3.71108374e+01\n",
      " 4.12576069e+01 4.19791757e+01 4.36367126e+01 4.52615131e+01\n",
      " 4.55888066e+01 4.63742315e+01 4.65131664e+01 4.83746761e+01\n",
      " 4.99509905e+01 5.12447711e+01 5.22478491e+01 5.23319276e+01\n",
      " 5.25317700e+01 5.45796112e+01 5.93821244e+01 6.13563745e+01\n",
      " 6.18032531e+01 6.81469531e+01 6.98586396e+01 7.17353849e+01\n",
      " 7.29086851e+01 7.43340228e+01 7.67920229e+01 7.77947587e+01\n",
      " 7.89081579e+01 7.98074393e+01 8.80664097e+01 9.20450338e+01\n",
      " 9.63485481e+01 9.77141492e+01 9.91049009e+01 1.03473391e+02\n",
      " 1.09493327e+02 1.15229618e+02 1.15984272e+02 1.33267177e+02\n",
      " 1.35513424e+02 1.46724646e+02 1.58205571e+02 1.99244489e+02\n",
      " 2.13403961e+02 2.13403961e+02 3.17226270e+02            nan\n",
      "            nan            nan            nan]\n",
      "[ 57  71  70  56  87 127 128  99 111   5  30 101  29  75  72 112  59  47\n",
      "  41  73  22   8   3  46  78  42   2  93 107 118  95  86  58 100 130  84\n",
      "  11 132 104 116   9  96  61  53  25  54  97  52   4 106  24  55  39  79\n",
      "   7 129  51  40   6  88  36 134  13  89 103  15   1  21  81  48  63 133\n",
      "  83  60 121  65  74  66  69  34 126  90  14 102   0 113  85  43  27  98\n",
      "  12  62  49 109  31  37  77  17  16 117  26 108 122  38 125  23  50 105\n",
      "  19  20  80  35  82 120  76  10  91 110 124  18 119  45  67 131  92  94\n",
      "  44  28 115  64  68  33  32 114 123]\n",
      "['median_nb_symbols_per_word_in_the_tweet', 'min_nb_symbols_per_word_in_the_tweet', 'min_nb_symbols_per_tweet', 'median_nb_symbols_per_tweet', 'nb_urls', 'time_since_newest_tweet_days', 'time_since_newest_tweet_months', 'replicates', 'std_nb_mentions_per_tweet', 'age', 'max_nb_mentions_per_word_in_the_tweet', 'reputation', 'max_nb_mentions_per_tweet', 'nb_collected_tweets', 'min_nb_urls_per_tweet', 'std_nb_mentions_per_word_in_the_tweet', 'median_nb_urls_per_word_in_the_tweet', 'mean_nb_urls_per_word_in_the_tweet', 'mean_nb_mentions_per_tweet', 'min_nb_urls_per_word_in_the_tweet', 'len_description', 'default_profile', 'adjusted_nb_of_uses_of_sources', 'mean_nb_urls_per_tweet', 'nb_hashtags', 'mean_nb_mentions_per_word_in_the_tweet', 'adjusted_nb_of_uses_of_mention', 'portion_of_tweets_with_mentions', 'std_nb_characters_per_tweet', 'std_nb_words_per_tweet']\n"
     ]
    },
    {
     "data": {
      "text/plain": "<Figure size 432x288 with 1 Axes>",
      "image/png": "[encoded data removed]"
     },
     "metadata": {
      "needs_background": "light"
     },
     "output_type": "display_data"
    }
   ],
   "source": [
    "# kb = SelectKBest(score_func=f_regression, k=10)\n",
    "# kb.fit(X_train, y_train)\n",
    "# indices = np.argsort(kb.scores_)[::-1]\n",
    "# selected_features = []\n",
    "# for i in range(30):\n",
    "#   selected_features.append(X.columns[indices[i]])\n",
    "# plt.figure()\n",
    "# plt.bar(selected_features, kb.scores_[indices[range(30)]], color=(0.9,0.5,0.2), align='center')\n",
    "# plt.xticks(rotation=90)\n",
    "#\n",
    "# print(X.columns)\n",
    "# print(kb.scores_[np.argsort(kb.scores_[:])])\n",
    "# print(indices)\n",
    "#\n",
    "# print(selected_features)"
   ],
   "metadata": {
    "collapsed": false,
    "pycharm": {
     "name": "#%%\n"
    }
   }
  },
  {
   "cell_type": "markdown",
   "source": [
    "## LinearSVC with all non object features"
   ],
   "metadata": {
    "collapsed": false
   }
  },
  {
   "cell_type": "code",
   "execution_count": 1583,
   "outputs": [
    {
     "name": "stdout",
     "output_type": "stream",
     "text": [
      "final train score :  0.9981751824817519\n",
      "              precision    recall  f1-score   support\n",
      "\n",
      "         0.0       0.95      0.95      0.95       107\n",
      "         1.0       0.84      0.84      0.84        31\n",
      "\n",
      "    accuracy                           0.93       138\n",
      "   macro avg       0.90      0.90      0.90       138\n",
      "weighted avg       0.93      0.93      0.93       138\n",
      "\n"
     ]
    },
    {
     "name": "stderr",
     "output_type": "stream",
     "text": [
      "d:\\python\\3.9.1\\lib\\site-packages\\sklearn\\svm\\_base.py:985: ConvergenceWarning: Liblinear failed to converge, increase the number of iterations.\n",
      "  warnings.warn(\"Liblinear failed to converge, increase \"\n"
     ]
    }
   ],
   "source": [
    "linearSVC_full = LinearSVC()\n",
    "linearSVC_full.fit(X_train, y_train)\n",
    "score = linearSVC_full.score(X_train, y_train)\n",
    "print(\"final train score : \", score)\n",
    "\n",
    "\n",
    "y_pred = linearSVC_full.predict(X_test)\n",
    "\n",
    "test_report = classification_report(y_test, y_pred)\n",
    "print(test_report)"
   ],
   "metadata": {
    "collapsed": false,
    "pycharm": {
     "name": "#%%\n"
    }
   }
  },
  {
   "cell_type": "markdown",
   "source": [
    "## LinearSVC with top 5 non object features"
   ],
   "metadata": {
    "collapsed": false
   }
  },
  {
   "cell_type": "code",
   "execution_count": 1584,
   "outputs": [
    {
     "name": "stdout",
     "output_type": "stream",
     "text": [
      "feature : nb_urls | mean : 2.1302594218222487e-17 | median : -0.33270331302897704 | variance: 1.0018281535648996 | min : -1.0306499604090253 | max : 5.351729208118353\n",
      "feature : time_since_newest_tweet_months | mean : -4.144343019614664e-17 | median : -0.3565792969056095 | variance: 1.0018281535648994 | min : -0.3632792953525244 | max : 7.723618830073798\n",
      "feature : time_since_newest_tweet_days | mean : 7.717620135823825e-18 | median : -0.3565792969056094 | variance: 1.0018281535648992 | min : -0.36327929535252435 | max : 7.723618830073798\n",
      "feature : replicates | mean : 2.9571020713206834e-17 | median : -0.39768607930312666 | variance: 1.0018281535648994 | min : -0.6059115407874331 | max : 5.57678293097736\n",
      "feature : std_nb_mentions_per_tweet | mean : -2.745657916797039e-17 | median : -0.04235500724633792 | variance: 1.0018281535648994 | min : -1.674182054031672 | max : 3.971999487149537\n",
      "\n",
      "final train score :  0.9598540145985401\n",
      "              precision    recall  f1-score   support\n",
      "\n",
      "         0.0       0.91      0.96      0.94       107\n",
      "         1.0       0.84      0.68      0.75        31\n",
      "\n",
      "    accuracy                           0.90       138\n",
      "   macro avg       0.88      0.82      0.84       138\n",
      "weighted avg       0.90      0.90      0.89       138\n",
      "\n"
     ]
    },
    {
     "name": "stderr",
     "output_type": "stream",
     "text": [
      "d:\\python\\3.9.1\\lib\\site-packages\\sklearn\\svm\\_base.py:985: ConvergenceWarning: Liblinear failed to converge, increase the number of iterations.\n",
      "  warnings.warn(\"Liblinear failed to converge, increase \"\n"
     ]
    }
   ],
   "source": [
    "X_top_features = ['nb_urls', 'time_since_newest_tweet_months', 'time_since_newest_tweet_days', 'replicates', 'std_nb_mentions_per_tweet']\n",
    "for feature in X_top_features:\n",
    "    print(\"feature : {} | mean : {} | median : {} | variance: {} | min : {} | max : {}\"\n",
    "          .format(feature, stcs.mean(X_train[feature]), stcs.median(X_train[feature]), stcs.variance(X_train[feature]), X_train[feature].min(), X_train[feature].max()))\n",
    "\n",
    "linearSVC = LinearSVC()\n",
    "linearSVC.fit(X_train[X_top_features], y_train)\n",
    "score = linearSVC.score(X_train[X_top_features], y_train)\n",
    "print(\"\\nfinal train score : \", score)\n",
    "\n",
    "\n",
    "y_pred = linearSVC.predict(X_test[X_top_features])\n",
    "\n",
    "test_report = classification_report(y_test, y_pred)\n",
    "print(test_report)"
   ],
   "metadata": {
    "collapsed": false,
    "pycharm": {
     "name": "#%%\n"
    }
   }
  },
  {
   "cell_type": "markdown",
   "source": [
    "## SVC (RDF)"
   ],
   "metadata": {
    "collapsed": false
   }
  },
  {
   "cell_type": "code",
   "execution_count": 1585,
   "outputs": [
    {
     "name": "stdout",
     "output_type": "stream",
     "text": [
      "              precision    recall  f1-score   support\n",
      "\n",
      "         0.0       0.98      0.98      0.98       107\n",
      "         1.0       0.94      0.94      0.94        31\n",
      "\n",
      "    accuracy                           0.97       138\n",
      "   macro avg       0.96      0.96      0.96       138\n",
      "weighted avg       0.97      0.97      0.97       138\n",
      "\n"
     ]
    }
   ],
   "source": [
    "linearRDF = svm.SVC(kernel='rbf', C=1)\n",
    "linearRDF.fit(X_train, y_train)\n",
    "score = linearRDF.score(X_train, y_train)\n",
    "y_pred = linearRDF.predict(X_test)\n",
    "\n",
    "test_report = classification_report(y_test, y_pred)\n",
    "print(test_report)"
   ],
   "metadata": {
    "collapsed": false,
    "pycharm": {
     "name": "#%%\n"
    }
   }
  },
  {
   "cell_type": "markdown",
   "source": [
    "## report prediction"
   ],
   "metadata": {
    "collapsed": false
   }
  },
  {
   "cell_type": "code",
   "execution_count": 1586,
   "outputs": [
    {
     "name": "stdout",
     "output_type": "stream",
     "text": [
      "    coded_id  label\n",
      "0          5      0\n",
      "1         26      1\n",
      "2         37      1\n",
      "3         40      0\n",
      "4         52      1\n",
      "..       ...    ...\n",
      "76       729      0\n",
      "77       745      0\n",
      "78       746      0\n",
      "79       757      0\n",
      "80       762      0\n",
      "\n",
      "[81 rows x 2 columns]\n"
     ]
    }
   ],
   "source": [
    "report_pred = linearRDF.predict(X_report)\n",
    "\n",
    "report_df = DataFrame({'coded_id': ids_report\n",
    "                      ,'label': map(int, report_pred.tolist())})\n",
    "\n",
    "print(report_df)\n",
    "# report_df.to_csv(\"coded_ids_labels_test.csv\", index=False, index_label=['coded_id', 'label'])"
   ],
   "metadata": {
    "collapsed": false,
    "pycharm": {
     "name": "#%%\n"
    }
   }
  }
 ],
 "metadata": {
  "kernelspec": {
   "display_name": "Python 3",
   "language": "python",
   "name": "python3"
  },
  "language_info": {
   "codemirror_mode": {
    "name": "ipython",
    "version": 3
   },
   "file_extension": ".py",
   "mimetype": "text/x-python",
   "name": "python",
   "nbconvert_exporter": "python",
   "pygments_lexer": "ipython3",
   "version": "3.9.1"
  }
 },
 "nbformat": 4,
 "nbformat_minor": 5
}
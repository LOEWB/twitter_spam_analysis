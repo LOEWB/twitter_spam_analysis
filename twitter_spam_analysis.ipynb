{
 "cells": [
  {
   "cell_type": "code",
   "execution_count": 109,
   "id": "noble-giant",
   "metadata": {
    "scrolled": true
   },
   "outputs": [],
   "source": [
    "import pandas as pd\n",
    "import plotly.graph_objects as go\n",
    "import matplotlib.pyplot as plt"
   ]
  },
  {
   "cell_type": "code",
   "execution_count": 110,
   "id": "plain-aircraft",
   "metadata": {},
   "outputs": [],
   "source": [
    "PATH_CODED_IDS_TRAIN = \"data/users/coded_ids_labels_train.csv\""
   ]
  },
  {
   "cell_type": "code",
   "execution_count": 111,
   "id": "separated-vietnamese",
   "metadata": {
    "scrolled": true
   },
   "outputs": [
    {
     "data": {
      "text/plain": [
       "coded_id    686\n",
       "label       686\n",
       "dtype: int64"
      ]
     },
     "execution_count": 111,
     "metadata": {},
     "output_type": "execute_result"
    }
   ],
   "source": [
    "train_users = pd.read_csv(PATH_CODED_IDS_TRAIN)\n",
    "print(\"number of train_users.count()"
   ]
  },
  {
   "cell_type": "code",
   "execution_count": 112,
   "id": "living-helping",
   "metadata": {
    "scrolled": false
   },
   "outputs": [
    {
     "name": "stdout",
     "output_type": "stream",
     "text": [
      "118\n",
      "568\n"
     ]
    }
   ],
   "source": [
    "spam_counter = 0\n",
    "legit_counter = 0\n",
    "train_len = len(train_users)\n",
    "for i in train_users[:]['label']:\n",
    "    if(i == 1):\n",
    "        spam_counter += 1\n",
    "    else:\n",
    "        legit_counter += 1\n",
    "print(spam_counter)\n",
    "print(legit_counter)"
   ]
  },
  {
   "cell_type": "code",
   "execution_count": 100,
   "id": "rough-windows",
   "metadata": {
    "scrolled": false
   },
   "outputs": [
    {
     "data": {
      "image/png": "[encoded data removed]",
      "text/plain": [
       "<Figure size 432x288 with 1 Axes>"
      ]
     },
     "metadata": {},
     "output_type": "display_data"
    }
   ],
   "source": [
    "labels = 'Spam', 'Legit'\n",
    "pie_sizes = []\n",
    "pie_sizes.append(100 / train_len * spam_counter)\n",
    "pie_sizes.append(100 / train_len * legit_counter)\n",
    "fig1, ax1 = plt.subplots()\n",
    "ax1.pie(pie_sizes, explode=(0.1, 0), labels=labels, autopct='%1.1f%%',\n",
    "        shadow=True, startangle=90)\n",
    "ax1.axis('equal')\n",
    "\n",
    "plt.show()"
   ]
  },
  {
   "cell_type": "code",
   "execution_count": 89,
   "id": "mature-index",
   "metadata": {},
   "outputs": [
    {
     "data": {
      "text/plain": [
       "686"
      ]
     },
     "execution_count": 89,
     "metadata": {},
     "output_type": "execute_result"
    }
   ],
   "source": []
  },
  {
   "cell_type": "code",
   "execution_count": null,
   "id": "independent-hardwood",
   "metadata": {},
   "outputs": [],
   "source": []
  }
 ],
 "metadata": {
  "kernelspec": {
   "display_name": "Python 3",
   "language": "python",
   "name": "python3"
  },
  "language_info": {
   "codemirror_mode": {
    "name": "ipython",
    "version": 3
   },
   "file_extension": ".py",
   "mimetype": "text/x-python",
   "name": "python",
   "nbconvert_exporter": "python",
   "pygments_lexer": "ipython3",
   "version": "3.9.1"
  }
 },
 "nbformat": 4,
 "nbformat_minor": 5
}
